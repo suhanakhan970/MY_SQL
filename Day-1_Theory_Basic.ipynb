{
 "cells": [
  {
   "cell_type": "markdown",
   "id": "0691c563",
   "metadata": {},
   "source": [
    "<div style=\"background-color: #002147; padding: 10px; text-align: center; color: white; font-size: 32px; font-family: 'Arial', sans-serif;\">\n",
    "    SQL<br>\n",
    "    <h3 style=\"text-align: center; color: white; font-size: 15px; font-family: 'Arial', sans-serif;\"></h3>\n",
    "</div>"
   ]
  },
  {
   "cell_type": "markdown",
   "id": "19d249a3",
   "metadata": {},
   "source": [
    "<div style=\"background-color: lightgreen; color: black; padding: 4px;\">\n",
    "    <h2>What is SQL\n",
    "</h2> </div>"
   ]
  },
  {
   "cell_type": "markdown",
   "id": "44216914",
   "metadata": {},
   "source": [
    "* SQL stands for Structured Query Language\n",
    "* SQL became a standard of the American National Standards Institute (ANSI) in 1986, and of the International Organization for Standardization (ISO) in 1987\n"
   ]
  },
  {
   "cell_type": "markdown",
   "id": "0db4aad0",
   "metadata": {},
   "source": [
    "<div style=\"background-color: lightgreen; color: black; padding: 4px;\">\n",
    "    <h2>What can SQL do?\n",
    "</h2> </div>"
   ]
  },
  {
   "cell_type": "markdown",
   "metadata": {},
   "source": [
    "* SQL can execute queries against a database\n",
    "* SQL can retrieve data from a database\n",
    "* SQL can insert records in a database\n",
    "* SQL can update records in a database\n",
    "* SQL can delete records from a database\n",
    "* SQL can create new databases\n",
    "* SQL can create new tables in a database\n",
    "* SQL can create stored procedures in a database\n",
    "* SQL can create views in a database\n",
    "* SQL can set permissions on tables, procedures, and views\n"
   ]
  },
  {
   "cell_type": "markdown",
   "metadata": {},
   "source": []
  },
  {
   "cell_type": "markdown",
   "metadata": {},
   "source": [
    "<div style=\"background-color: lightgreen; color: black; padding: 4px;\">\n",
    "    <h2>Why SQL is used in Data Analysis\n",
    "</h2> </div>"
   ]
  },
  {
   "cell_type": "markdown",
   "metadata": {},
   "source": [
    "1. Data Extraction (from databases)\n",
    "\n",
    "   Analysts use SQL to pull data from databases like MySQL, PostgreSQL, or SQL Server.\n",
    "\n",
    "   Example: Get all sales from January.\n",
    "\n",
    "2. Data Cleaning & Filtering\n",
    "\n",
    "   SQL helps filter missing, duplicate, or incorrect records.\n",
    "\n",
    "   Example: Remove rows where price IS NULL.\n",
    "\n",
    "3. Data Transformation\n",
    "\n",
    "   Modify data using JOIN, CASE, GROUP BY, etc.\n",
    "\n",
    "   Example: Combine customer and order data to analyze purchases.\n",
    "\n",
    "4. Data Aggregation\n",
    "\n",
    "   Summarize data: total sales, average scores, etc.\n",
    "\n",
    "   Example: Find the average salary per department.\n",
    "\n",
    "5. Report Creation\n",
    "\n",
    "   SQL queries are often used to generate dashboards or reports.\n",
    "\n",
    "   Tools like Power BI or Tableau use SQL to get backend data.\n",
    "\n"
   ]
  },
  {
   "cell_type": "markdown",
   "id": "12396678",
   "metadata": {},
   "source": [
    "<div style=\"background-color: lightgreen; color: black; padding: 4px;\">\n",
    "    <h2>CRUD commands of SQL\n",
    "</h2> </div>"
   ]
  },
  {
   "cell_type": "markdown",
   "id": "751d72fb",
   "metadata": {},
   "source": [
    "<div style=\"background-color: lightgreen; color: black; padding: 4px;\">\n",
    "    <h2>CREATE \n",
    "</h2> </div>"
   ]
  },
  {
   "cell_type": "markdown",
   "id": "889a0c67",
   "metadata": {},
   "source": [
    "In SQL, the CREATE command is used to create new database objects, such as tables, databases, views, indexes, etc.\n",
    "\n",
    "CREATE TABLE table_name (\n",
    "    column1 datatype constraint,\n",
    "    column2 datatype constraint,\n",
    "    ...\n",
    ");"
   ]
  },
  {
   "cell_type": "markdown",
   "id": "de360227",
   "metadata": {},
   "source": []
  },
  {
   "cell_type": "markdown",
   "id": "cd900e0d",
   "metadata": {},
   "source": [
    "<div style=\"background-color: lightgreen; color: black; padding: 4px;\">\n",
    "    <h2>READ\n",
    "</h2> </div>"
   ]
  },
  {
   "cell_type": "markdown",
   "metadata": {},
   "source": [
    "To read or fetch data from a table, we use the SELECT statement.\n",
    "\n",
    "SELECT * FROM students;\n"
   ]
  },
  {
   "cell_type": "markdown",
   "metadata": {},
   "source": [
    "<div style=\"background-color: lightgreen; color: black; padding: 4px;\">\n",
    "    <h2>UPDATE\n",
    "</h2> </div>"
   ]
  },
  {
   "cell_type": "markdown",
   "id": "12cc68b3",
   "metadata": {},
   "source": [
    "In SQL, the UPDATE command is used to modify existing records in a table.\n",
    "\n",
    "UPDATE table_name\n",
    "SET column1 = value1, column2 = value2, ...\n",
    "WHERE condition;"
   ]
  },
  {
   "cell_type": "markdown",
   "id": "357dd4a6",
   "metadata": {},
   "source": [
    "<div style=\"background-color: lightgreen; color: black; padding: 4px;\">\n",
    "    <h2>DELETE\n",
    "</h2> </div>"
   ]
  },
  {
   "cell_type": "markdown",
   "id": "28c0fb6d",
   "metadata": {},
   "source": [
    "In SQL, the DELETE command is used to remove rows from a table.\n",
    "\n",
    "DELETE FROM table_name\n",
    "WHERE condition;\n",
    "\n",
    "DELETE FROM students;"
   ]
  },
  {
   "cell_type": "markdown",
   "id": "7375d32c",
   "metadata": {},
   "source": [
    "<div style=\"background-color: lightgreen; color: black; padding: 4px;\">\n",
    "    <h2>ALTER\n",
    "</h2> </div>"
   ]
  },
  {
   "cell_type": "markdown",
   "id": "31b8c02a",
   "metadata": {},
   "source": [
    "n SQL, the ALTER command is used to modify the structure of an existing table (like adding, deleting, or modifying columns).\n",
    "\n",
    "* Add a new column:\n",
    "ALTER TABLE students\n",
    "ADD email VARCHAR(100);\n",
    "* Modify an existing column:\n",
    "Modify an existing column:\n",
    "ALTER TABLE students\n",
    "MODIFY age INT;\n",
    "* DROP a column:ALTER TABLE students\n",
    "DROP COLUMN grade;\n"
   ]
  },
  {
   "cell_type": "markdown",
   "id": "51e19b0d",
   "metadata": {},
   "source": [
    "<div style=\"background-color: lightblue; color: white; padding: 10px; text-align: center;\">\n",
    "    <h1>_________________________________END________________________________</h1></div>"
   ]
  },
  {
   "cell_type": "markdown",
   "id": "8b89be1a",
   "metadata": {},
   "source": [
    "<div style=\"background-color: #002147; color: #fff; padding: 30px; text-align: center;\">\n",
    "    <h1>THANK YOU!\n",
    "        \n",
    "</h1> </div>"
   ]
  },
  {
   "cell_type": "markdown",
   "id": "25306d07",
   "metadata": {},
   "source": []
  }
 ],
 "metadata": {
  "kernelspec": {
   "display_name": "base",
   "language": "python",
   "name": "python3"
  },
  "language_info": {
   "codemirror_mode": {
    "name": "ipython",
    "version": 3
   },
   "file_extension": ".py",
   "mimetype": "text/x-python",
   "name": "python",
   "nbconvert_exporter": "python",
   "pygments_lexer": "ipython3",
   "version": "3.12.4"
  }
 },
 "nbformat": 4,
 "nbformat_minor": 5
}
