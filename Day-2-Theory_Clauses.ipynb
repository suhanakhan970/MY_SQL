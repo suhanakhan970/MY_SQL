{
 "cells": [
  {
   "cell_type": "markdown",
   "id": "e437a2e9",
   "metadata": {},
   "source": [
    "<div style=\"background-color: #002147; padding: 10px; text-align: center; color: white; font-size: 32px; font-family: 'Arial', sans-serif;\">\n",
    "    SQL<br>\n",
    "    <h3 style=\"text-align: center; color: white; font-size: 15px; font-family: 'Arial', sans-serif;\"></h3>\n",
    "</div>"
   ]
  },
  {
   "cell_type": "markdown",
   "id": "16fa3a04",
   "metadata": {},
   "source": []
  },
  {
   "cell_type": "markdown",
   "id": "40d94cac",
   "metadata": {},
   "source": [
    "<div style=\"background-color: lightgreen; color: black; padding: 4px;\">\n",
    "    <h2>What is CLAUSES IN SQL?\n",
    "</h2> </div>"
   ]
  },
  {
   "cell_type": "markdown",
   "metadata": {},
   "source": [
    "SQL clauses are built-in functions that define specific conditions within an SQL statement to retrieve, update, or manipulate data from a database. These clauses work alongside SELECT, UPDATE, DELETE, and INSERT queries to refine results and ensure efficient data handling.\n",
    "\n"
   ]
  },
  {
   "cell_type": "markdown",
   "id": "0990390a",
   "metadata": {},
   "source": [
    "<div style=\"background-color: lightgreen; color: black; padding: 4px;\">\n",
    "    <h2>Types of SQL Clauses\n",
    "</h2> </div>"
   ]
  },
  {
   "cell_type": "markdown",
   "id": "4fb03c3d",
   "metadata": {},
   "source": [
    "<div style=\"background-color: lightgreen; color: black; padding: 4px;\">\n",
    "    <h2>Where\n",
    "</h2> </div>"
   ]
  },
  {
   "cell_type": "markdown",
   "id": "da1d785b",
   "metadata": {},
   "source": [
    "The WHERE clause is used to filter records based on specific conditions. It is typically used in SELECT, UPDATE, and DELETE queries to restrict the data that is affected by these statements. For example, retrieving all employees with a salary above 50,000."
   ]
  },
  {
   "cell_type": "markdown",
   "id": "0a748586",
   "metadata": {},
   "source": [
    "<div style=\"background-color: lightgreen; color: black; padding: 4px;\">\n",
    "    <h2>ORDER BY\n",
    "</h2> </div>"
   ]
  },
  {
   "cell_type": "markdown",
   "id": "418fca3b",
   "metadata": {},
   "source": [
    "The ORDER BY clause is used to sort the query results in either ascending or descending order. It is commonly used with numeric, date, and text fields to organize data meaningfully, such as sorting employees by their joining date."
   ]
  },
  {
   "cell_type": "markdown",
   "id": "8b8c6c9d",
   "metadata": {},
   "source": [
    "<div style=\"background-color: lightgreen; color: black; padding: 4px;\">\n",
    "    <h2>LIMIT\n",
    "</h2> </div>"
   ]
  },
  {
   "cell_type": "markdown",
   "id": "1bfef0b6",
   "metadata": {},
   "source": [
    "The LIMIT clause restricts the number of rows returned in a query result. This is especially useful in large databases where retrieving all records could be inefficient. For example, fetching the top 5 highest-paid employees."
   ]
  },
  {
   "cell_type": "markdown",
   "id": "f7c8eba2",
   "metadata": {},
   "source": [
    "<div style=\"background-color: lightgreen; color: black; padding: 4px;\">\n",
    "    <h2>AND\n",
    "</h2> </div>"
   ]
  },
  {
   "cell_type": "markdown",
   "id": "e5d2dd06",
   "metadata": {},
   "source": [
    "The AND clause is used to combine multiple conditions in a query, ensuring that all conditions must be met. It is useful in complex filtering scenarios, such as retrieving employees who work in a specific department and have a salary above 60,000."
   ]
  },
  {
   "cell_type": "markdown",
   "id": "109b42d5",
   "metadata": {},
   "source": [
    "<div style=\"background-color: lightgreen; color: black; padding: 4px;\">\n",
    "    <h2>OR\n",
    "</h2> </div>"
   ]
  },
  {
   "cell_type": "markdown",
   "id": "a38512e5",
   "metadata": {},
   "source": [
    "The OR clause is used to combine multiple conditions where at least one must be true. It is useful when searching for multiple criteria, such as retrieving customers from either New York or Los Angeles."
   ]
  },
  {
   "cell_type": "markdown",
   "id": "57cad2eb",
   "metadata": {},
   "source": [
    "<div style=\"background-color: lightgreen; color: black; padding: 4px;\">\n",
    "    <h2>FROM\n",
    "</h2> </div>"
   ]
  },
  {
   "cell_type": "markdown",
   "id": "5a5b3c02",
   "metadata": {},
   "source": [
    "The FROM clause specifies the database table from which records will be retrieved. It is a fundamental part of SQL queries as it defines the source of data for SELECT, DELETE, and UPDATE statements."
   ]
  },
  {
   "cell_type": "markdown",
   "id": "8332c88c",
   "metadata": {},
   "source": []
  }
 ],
 "metadata": {
  "language_info": {
   "name": "python"
  }
 },
 "nbformat": 4,
 "nbformat_minor": 5
}
